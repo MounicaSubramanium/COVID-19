{
 "cells": [
  {
   "cell_type": "code",
   "execution_count": null,
   "metadata": {},
   "outputs": [],
   "source": [
    "# Cleaning up some of the USA data, namely the locations with coordinates of 0, 0"
   ]
  },
  {
   "cell_type": "code",
   "execution_count": 1,
   "metadata": {},
   "outputs": [],
   "source": [
    "import pandas as pd\n",
    "import numpy as np\n",
    "import requests\n",
    "import json\n",
    "from datetime import datetime as dt\n",
    "\n",
    "# reading CSV files to create dataframes\n",
    "# df_confirmed = pd.read_csv('./csse_covid_19_data/csse_covid_19_time_series/time_series_covid19_confirmed_US.csv')\n",
    "\n",
    "df_tMax = pd.read_csv('./csv/tMax_US.csv')\n",
    "df_tMin = pd.read_csv('./csv/tMin_US.csv')\n",
    "df_humidity = pd.read_csv('./csv/humidity_US.csv')\n",
    "df_uvIndex = pd.read_csv('./csv/uv_US.csv')\n",
    "df_cloud = pd.read_csv('./csv/cloud_US.csv')\n",
    "df_precipprob = pd.read_csv('./csv/precip_US.csv')\n",
    "df_dewpoint = pd.read_csv('./csv/dew_US.csv')\n",
    "df_pressure = pd.read_csv('./csv/pressure_US.csv')\n",
    "df_windspeed = pd.read_csv('./csv/wind_US.csv')\n",
    "df_ozone = pd.read_csv('./csv/ozone_US.csv')\n",
    "df_sunrise = pd.read_csv('./csv/sunrise_US.csv')\n",
    "df_sunset = pd.read_csv('./csv/sunset_US.csv')\n"
   ]
  },
  {
   "cell_type": "code",
   "execution_count": 2,
   "metadata": {},
   "outputs": [
    {
     "data": {
      "text/html": [
       "<div>\n",
       "<style scoped>\n",
       "    .dataframe tbody tr th:only-of-type {\n",
       "        vertical-align: middle;\n",
       "    }\n",
       "\n",
       "    .dataframe tbody tr th {\n",
       "        vertical-align: top;\n",
       "    }\n",
       "\n",
       "    .dataframe thead th {\n",
       "        text-align: right;\n",
       "    }\n",
       "</style>\n",
       "<table border=\"1\" class=\"dataframe\">\n",
       "  <thead>\n",
       "    <tr style=\"text-align: right;\">\n",
       "      <th></th>\n",
       "      <th>UID</th>\n",
       "      <th>iso2</th>\n",
       "      <th>iso3</th>\n",
       "      <th>code3</th>\n",
       "      <th>FIPS</th>\n",
       "      <th>Admin2</th>\n",
       "      <th>Province_State</th>\n",
       "      <th>Country_Region</th>\n",
       "      <th>Lat</th>\n",
       "      <th>Long_</th>\n",
       "      <th>...</th>\n",
       "      <th>8/3/20</th>\n",
       "      <th>8/4/20</th>\n",
       "      <th>8/5/20</th>\n",
       "      <th>8/6/20</th>\n",
       "      <th>8/7/20</th>\n",
       "      <th>8/8/20</th>\n",
       "      <th>8/9/20</th>\n",
       "      <th>8/10/20</th>\n",
       "      <th>8/11/20</th>\n",
       "      <th>8/12/20</th>\n",
       "    </tr>\n",
       "  </thead>\n",
       "  <tbody>\n",
       "    <tr>\n",
       "      <th>0</th>\n",
       "      <td>84001001</td>\n",
       "      <td>US</td>\n",
       "      <td>USA</td>\n",
       "      <td>840</td>\n",
       "      <td>1001.0</td>\n",
       "      <td>Autauga</td>\n",
       "      <td>Alabama</td>\n",
       "      <td>US</td>\n",
       "      <td>32.539527</td>\n",
       "      <td>-86.644082</td>\n",
       "      <td>...</td>\n",
       "      <td>33</td>\n",
       "      <td>32</td>\n",
       "      <td>33</td>\n",
       "      <td>33</td>\n",
       "      <td>33</td>\n",
       "      <td>34</td>\n",
       "      <td>34</td>\n",
       "      <td>35</td>\n",
       "      <td>34</td>\n",
       "      <td>34</td>\n",
       "    </tr>\n",
       "    <tr>\n",
       "      <th>1</th>\n",
       "      <td>84001003</td>\n",
       "      <td>US</td>\n",
       "      <td>USA</td>\n",
       "      <td>840</td>\n",
       "      <td>1003.0</td>\n",
       "      <td>Baldwin</td>\n",
       "      <td>Alabama</td>\n",
       "      <td>US</td>\n",
       "      <td>30.727750</td>\n",
       "      <td>-87.722071</td>\n",
       "      <td>...</td>\n",
       "      <td>33</td>\n",
       "      <td>34</td>\n",
       "      <td>34</td>\n",
       "      <td>33</td>\n",
       "      <td>34</td>\n",
       "      <td>33</td>\n",
       "      <td>33</td>\n",
       "      <td>33</td>\n",
       "      <td>33</td>\n",
       "      <td>34</td>\n",
       "    </tr>\n",
       "    <tr>\n",
       "      <th>2</th>\n",
       "      <td>84001005</td>\n",
       "      <td>US</td>\n",
       "      <td>USA</td>\n",
       "      <td>840</td>\n",
       "      <td>1005.0</td>\n",
       "      <td>Barbour</td>\n",
       "      <td>Alabama</td>\n",
       "      <td>US</td>\n",
       "      <td>31.868263</td>\n",
       "      <td>-85.387129</td>\n",
       "      <td>...</td>\n",
       "      <td>35</td>\n",
       "      <td>34</td>\n",
       "      <td>34</td>\n",
       "      <td>34</td>\n",
       "      <td>33</td>\n",
       "      <td>35</td>\n",
       "      <td>34</td>\n",
       "      <td>35</td>\n",
       "      <td>34</td>\n",
       "      <td>34</td>\n",
       "    </tr>\n",
       "    <tr>\n",
       "      <th>3</th>\n",
       "      <td>84001007</td>\n",
       "      <td>US</td>\n",
       "      <td>USA</td>\n",
       "      <td>840</td>\n",
       "      <td>1007.0</td>\n",
       "      <td>Bibb</td>\n",
       "      <td>Alabama</td>\n",
       "      <td>US</td>\n",
       "      <td>32.996421</td>\n",
       "      <td>-87.125115</td>\n",
       "      <td>...</td>\n",
       "      <td>32</td>\n",
       "      <td>33</td>\n",
       "      <td>33</td>\n",
       "      <td>33</td>\n",
       "      <td>33</td>\n",
       "      <td>34</td>\n",
       "      <td>34</td>\n",
       "      <td>35</td>\n",
       "      <td>35</td>\n",
       "      <td>35</td>\n",
       "    </tr>\n",
       "    <tr>\n",
       "      <th>4</th>\n",
       "      <td>84001009</td>\n",
       "      <td>US</td>\n",
       "      <td>USA</td>\n",
       "      <td>840</td>\n",
       "      <td>1009.0</td>\n",
       "      <td>Blount</td>\n",
       "      <td>Alabama</td>\n",
       "      <td>US</td>\n",
       "      <td>33.982109</td>\n",
       "      <td>-86.567906</td>\n",
       "      <td>...</td>\n",
       "      <td>30</td>\n",
       "      <td>32</td>\n",
       "      <td>32</td>\n",
       "      <td>32</td>\n",
       "      <td>31</td>\n",
       "      <td>32</td>\n",
       "      <td>34</td>\n",
       "      <td>35</td>\n",
       "      <td>34</td>\n",
       "      <td>34</td>\n",
       "    </tr>\n",
       "  </tbody>\n",
       "</table>\n",
       "<p>5 rows × 235 columns</p>\n",
       "</div>"
      ],
      "text/plain": [
       "        UID iso2 iso3  code3    FIPS   Admin2 Province_State Country_Region  \\\n",
       "0  84001001   US  USA    840  1001.0  Autauga        Alabama             US   \n",
       "1  84001003   US  USA    840  1003.0  Baldwin        Alabama             US   \n",
       "2  84001005   US  USA    840  1005.0  Barbour        Alabama             US   \n",
       "3  84001007   US  USA    840  1007.0     Bibb        Alabama             US   \n",
       "4  84001009   US  USA    840  1009.0   Blount        Alabama             US   \n",
       "\n",
       "         Lat      Long_  ... 8/3/20  8/4/20  8/5/20  8/6/20  8/7/20  8/8/20  \\\n",
       "0  32.539527 -86.644082  ...     33      32      33      33      33      34   \n",
       "1  30.727750 -87.722071  ...     33      34      34      33      34      33   \n",
       "2  31.868263 -85.387129  ...     35      34      34      34      33      35   \n",
       "3  32.996421 -87.125115  ...     32      33      33      33      33      34   \n",
       "4  33.982109 -86.567906  ...     30      32      32      32      31      32   \n",
       "\n",
       "   8/9/20  8/10/20  8/11/20  8/12/20  \n",
       "0      34       35       34       34  \n",
       "1      33       33       33       34  \n",
       "2      34       35       34       34  \n",
       "3      34       35       35       35  \n",
       "4      34       35       34       34  \n",
       "\n",
       "[5 rows x 235 columns]"
      ]
     },
     "execution_count": 2,
     "metadata": {},
     "output_type": "execute_result"
    }
   ],
   "source": [
    "df_tMax.head()"
   ]
  },
  {
   "cell_type": "code",
   "execution_count": 3,
   "metadata": {},
   "outputs": [
    {
     "data": {
      "text/plain": [
       "dtype('float64')"
      ]
     },
     "execution_count": 3,
     "metadata": {},
     "output_type": "execute_result"
    }
   ],
   "source": [
    "df_tMax.Lat.dtypes"
   ]
  },
  {
   "cell_type": "code",
   "execution_count": 4,
   "metadata": {},
   "outputs": [
    {
     "data": {
      "text/plain": [
       "dtype('float64')"
      ]
     },
     "execution_count": 4,
     "metadata": {},
     "output_type": "execute_result"
    }
   ],
   "source": [
    "df_tMax.Long_.dtypes"
   ]
  },
  {
   "cell_type": "code",
   "execution_count": 5,
   "metadata": {},
   "outputs": [],
   "source": [
    "# Method for dropping found on \n",
    "# https://thispointer.com/python-pandas-how-to-drop-rows-in-dataframe-by-conditions-on-column-values/\n",
    "# create index of rows where latitude == 0\n",
    "\n",
    "latZero = df_tMax[df_tMax['Lat'] == 0].index"
   ]
  },
  {
   "cell_type": "code",
   "execution_count": 6,
   "metadata": {},
   "outputs": [],
   "source": [
    "# create index of rowse where longitude == 0\n",
    "\n",
    "longZero = df_tMax[df_tMax['Long_'] == 0].index"
   ]
  },
  {
   "cell_type": "code",
   "execution_count": 7,
   "metadata": {},
   "outputs": [
    {
     "data": {
      "text/plain": [
       "Int64Index([  52,   64,   89,   95,  111,  115,  170,  188,  225,  251,\n",
       "            ...\n",
       "            3099, 3132, 3167, 3178, 3219, 3233, 3285, 3304, 3329, 3337],\n",
       "           dtype='int64', length=108)"
      ]
     },
     "execution_count": 7,
     "metadata": {},
     "output_type": "execute_result"
    }
   ],
   "source": [
    "latZero"
   ]
  },
  {
   "cell_type": "code",
   "execution_count": 8,
   "metadata": {},
   "outputs": [
    {
     "data": {
      "text/plain": [
       "Int64Index([  52,   64,   89,   95,  111,  115,  170,  188,  225,  251,\n",
       "            ...\n",
       "            3099, 3132, 3167, 3178, 3219, 3233, 3285, 3304, 3329, 3337],\n",
       "           dtype='int64', length=108)"
      ]
     },
     "execution_count": 8,
     "metadata": {},
     "output_type": "execute_result"
    }
   ],
   "source": [
    "longZero"
   ]
  },
  {
   "cell_type": "code",
   "execution_count": 9,
   "metadata": {},
   "outputs": [
    {
     "data": {
      "text/plain": [
       "Int64Index([  52,   64,   89,   95,  111,  115,  170,  188,  225,  251,\n",
       "            ...\n",
       "            3099, 3132, 3167, 3178, 3219, 3233, 3285, 3304, 3329, 3337],\n",
       "           dtype='int64', length=108)"
      ]
     },
     "execution_count": 9,
     "metadata": {},
     "output_type": "execute_result"
    }
   ],
   "source": [
    "# create index where latitude and longitude == 0\n",
    "\n",
    "removeIndex = latZero.join(longZero, how='inner')\n",
    "\n",
    "removeIndex"
   ]
  },
  {
   "cell_type": "code",
   "execution_count": 10,
   "metadata": {},
   "outputs": [],
   "source": [
    "df_tMax.drop(removeIndex, inplace=True)\n",
    "df_tMin.drop(removeIndex, inplace=True)\n",
    "df_humidity.drop(removeIndex, inplace=True)\n",
    "df_uvIndex.drop(removeIndex, inplace=True)\n",
    "df_cloud.drop(removeIndex, inplace=True)\n",
    "df_precipprob.drop(removeIndex, inplace=True)\n",
    "df_dewpoint.drop(removeIndex, inplace=True)\n",
    "df_pressure.drop(removeIndex, inplace=True)\n",
    "df_windspeed.drop(removeIndex, inplace=True)\n",
    "df_ozone.drop(removeIndex, inplace=True)\n",
    "df_sunrise.drop(removeIndex, inplace=True)\n",
    "df_sunset.drop(removeIndex, inplace=True)"
   ]
  },
  {
   "cell_type": "code",
   "execution_count": 11,
   "metadata": {},
   "outputs": [],
   "source": [
    "# Writing data to csv\n",
    "df_tMax.to_csv('./csv/tMax_US.csv', index=False)\n",
    "df_tMin.to_csv('./csv/tMin_US.csv', index=False)\n",
    "df_humidity.to_csv('./csv/humidity_US.csv', index=False)\n",
    "df_uvIndex.to_csv('./csv/uv_US.csv', index=False)\n",
    "df_cloud.to_csv('./csv/cloud_US.csv', index=False)\n",
    "df_precipprob.to_csv('./csv/precip_US.csv', index=False)\n",
    "df_dewpoint.to_csv('./csv/dew_US.csv', index=False)\n",
    "df_pressure.to_csv('./csv/pressure_US.csv', index=False)\n",
    "df_windspeed.to_csv('./csv/wind_US.csv', index=False)\n",
    "df_ozone.to_csv('./csv/ozone_US.csv', index=False)\n",
    "df_sunrise.to_csv('./csv/sunrise_US.csv', index=False)\n",
    "df_sunset.to_csv('./csv/sunset_US.csv', index=False)"
   ]
  }
 ],
 "metadata": {
  "kernelspec": {
   "display_name": "Python 3",
   "language": "python",
   "name": "python3"
  },
  "language_info": {
   "codemirror_mode": {
    "name": "ipython",
    "version": 3
   },
   "file_extension": ".py",
   "mimetype": "text/x-python",
   "name": "python",
   "nbconvert_exporter": "python",
   "pygments_lexer": "ipython3",
   "version": "3.8.3"
  }
 },
 "nbformat": 4,
 "nbformat_minor": 4
}
