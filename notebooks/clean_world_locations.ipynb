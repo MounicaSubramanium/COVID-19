{
 "cells": [
  {
   "cell_type": "markdown",
   "metadata": {},
   "source": [
    "Deleting duplicate Lat/Long entries in the world cities table"
   ]
  },
  {
   "cell_type": "code",
   "execution_count": null,
   "metadata": {},
   "outputs": [],
   "source": [
    "# sqlite3 library to run operations on the database\n",
    "import sqlite3\n",
    "\n",
    "gen_path = '/home/imants/gits/COVID-19/'\n",
    "\n",
    "db_path = gen_path + 'sql/world.db'\n",
    "\n",
    "# connecting to the weather database\n",
    "con = sqlite3.connect(db_path)\n",
    "\n",
    "# establishing database cursor\n",
    "cursorObj = con.cursor()\n"
   ]
  },
  {
   "cell_type": "code",
   "execution_count": null,
   "metadata": {},
   "outputs": [],
   "source": [
    "# Getting table names\n",
    "\n",
    "cursorObj.execute(\"SELECT name FROM sqlite_master WHERE type='table';\")\n",
    "\n",
    "for row in cursorObj:\n",
    "    print(row)\n"
   ]
  },
  {
   "cell_type": "code",
   "execution_count": null,
   "metadata": {
    "scrolled": true
   },
   "outputs": [],
   "source": [
    "# Deleting duplicate Lat/Long locations in world_cities\n",
    "# https://stackoverflow.com/questions/8190541/deleting-duplicate-rows-from-sqlite-database\n",
    "\n",
    "query_str = 'SELECT DISTINCT Latitude, Longitude FROM {}'.format('world')\n",
    "\n",
    "#rowid_str = 'SELECT rowid, * FROM ({})'.format(query_str)\n",
    "\n",
    "cursorObj.execute(query_str)\n",
    "\n",
    "counter = 0\n",
    "\n",
    "for row in cursorObj:\n",
    "    print('Counter: ', counter)\n",
    "    print(row[0])\n",
    "    print(row[1])\n",
    "    print('')\n",
    "    counter = counter + 1\n",
    "    \n",
    "    if counter == 20:\n",
    "        break"
   ]
  },
  {
   "cell_type": "code",
   "execution_count": null,
   "metadata": {},
   "outputs": [],
   "source": []
  },
  {
   "cell_type": "code",
   "execution_count": null,
   "metadata": {},
   "outputs": [],
   "source": [
    "# Making the world CSVs\n",
    "\n",
    "import pandas as pd\n",
    "import numpy as np\n",
    "import requests\n",
    "import json\n",
    "from datetime import datetime as dt\n",
    "\n",
    "gen_path = '/home/imants/gits/COVID-19/'\n",
    "\n",
    "df_path = gen_path + 'world/world.csv'\n",
    "\n",
    "print(df_path)\n",
    "\n",
    "df_world = pd.read_csv(df_path)"
   ]
  },
  {
   "cell_type": "code",
   "execution_count": null,
   "metadata": {},
   "outputs": [],
   "source": [
    "df_world.head()"
   ]
  },
  {
   "cell_type": "code",
   "execution_count": null,
   "metadata": {},
   "outputs": [],
   "source": [
    "df_template = df_world.copy()\n",
    "\n",
    "\n",
    "df_template.head(), df_template.size"
   ]
  },
  {
   "cell_type": "code",
   "execution_count": null,
   "metadata": {},
   "outputs": [],
   "source": [
    "# Adding the year\n",
    "\n",
    "def add_month (month, val1, val2):\n",
    "    \n",
    "    for q in range(val1, val2):\n",
    "        day_str = str(q)\n",
    "        date_str = str(month) + '/' + day_str + '/20'\n",
    "        print(date_str)\n",
    "        df_template[date_str] = None\n",
    "\n",
    "\n",
    "add_month(1, 1, 32)\n",
    "add_month(2, 1, 30)\n",
    "add_month(3, 1, 32)\n",
    "add_month(4, 1, 31)\n",
    "add_month(5, 1, 32)\n",
    "add_month(6, 1, 31)\n",
    "add_month(7, 1, 32)\n",
    "add_month(8, 1, 32)\n",
    "\n",
    "df_template.head()"
   ]
  },
  {
   "cell_type": "code",
   "execution_count": null,
   "metadata": {},
   "outputs": [],
   "source": []
  },
  {
   "cell_type": "code",
   "execution_count": null,
   "metadata": {},
   "outputs": [],
   "source": [
    "con.close()"
   ]
  }
 ],
 "metadata": {
  "kernelspec": {
   "display_name": "Python 3",
   "language": "python",
   "name": "python3"
  },
  "language_info": {
   "codemirror_mode": {
    "name": "ipython",
    "version": 3
   },
   "file_extension": ".py",
   "mimetype": "text/x-python",
   "name": "python",
   "nbconvert_exporter": "python",
   "pygments_lexer": "ipython3",
   "version": "3.8.3"
  }
 },
 "nbformat": 4,
 "nbformat_minor": 4
}
