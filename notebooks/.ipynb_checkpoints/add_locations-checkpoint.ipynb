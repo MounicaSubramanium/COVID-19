{
 "cells": [
  {
   "cell_type": "markdown",
   "metadata": {},
   "source": [
    "Adding new locations from Hopkins updates to the database"
   ]
  },
  {
   "cell_type": "code",
   "execution_count": 3,
   "metadata": {},
   "outputs": [],
   "source": [
    "# sqlite3 library to run operations on the database\n",
    "import sqlite3\n",
    "\n",
    "gen_path = '/home/imants/gits/COVID-19/'\n",
    "\n",
    "db_path = gen_path + 'sql/weather.db'\n",
    "\n",
    "# connecting to the weather database\n",
    "con = sqlite3.connect(db_path)\n",
    "\n",
    "# establishing database cursor\n",
    "cursorObj = con.cursor()\n"
   ]
  },
  {
   "cell_type": "code",
   "execution_count": 4,
   "metadata": {},
   "outputs": [
    {
     "name": "stdout",
     "output_type": "stream",
     "text": [
      "US names ['cloud_US', 'dew_US', 'humidity_US', 'ozone_US', 'precip_US', 'pressure_US', 'sunrise_US', 'sunset_US', 'tMax_US', 'tMin_US', 'uv_US', 'wind_US', 'updates_US']\n",
      "Global names ['cloud_Global', 'dew_Global', 'humidity_Global', 'ozone_Global', 'precip_Global', 'pressure_Global', 'sunrise_Global', 'sunset_Global', 'tMax_Global', 'tMin_Global', 'uv_Global', 'wind_Global', 'updates_global']\n"
     ]
    }
   ],
   "source": [
    "# Getting table names\n",
    "\n",
    "table_names = cursorObj.execute(\"SELECT name FROM sqlite_master WHERE type='table';\")\n",
    "\n",
    "table_names = table_names.fetchall()\n",
    "\n",
    "# Taking the table names that were fetched, and making a usable lists out of the values.\n",
    "\n",
    "US_names = []\n",
    "global_names = []\n",
    "\n",
    "for x in range(len(table_names)):\n",
    "    if (table_names[x][0][-2:] == 'US'):\n",
    "        US_names.append(table_names[x][0])\n",
    "        \n",
    "    else:\n",
    "        global_names.append(table_names[x][0])\n",
    "        \n",
    " \n",
    "print('US names', US_names)\n",
    "\n",
    "print('Global names', global_names)\n",
    "    \n"
   ]
  },
  {
   "cell_type": "code",
   "execution_count": 7,
   "metadata": {},
   "outputs": [
    {
     "name": "stdout",
     "output_type": "stream",
     "text": [
      "SELECT Lat, Long_ FROM updates_US\n",
      "32.53952745\n",
      "-86.64408227\n"
     ]
    }
   ],
   "source": [
    "# Querying US updates\n",
    "\n",
    "# where_str = '{} != cloud_US[Lat] AND {} != cloud_US[Long_]'.format('Lat', 'Long_')\n",
    "\n",
    "query_str = 'SELECT Lat, Long_ FROM {}'.format(US_names[12])\n",
    "print(query_str)\n",
    "cursorObj.execute(query_str)\n",
    "\n",
    "for rows in cursorObj:\n",
    "    print(rows[0])\n",
    "    print(rows[1])\n",
    "    break"
   ]
  }
 ],
 "metadata": {
  "kernelspec": {
   "display_name": "Python 3",
   "language": "python",
   "name": "python3"
  },
  "language_info": {
   "codemirror_mode": {
    "name": "ipython",
    "version": 3
   },
   "file_extension": ".py",
   "mimetype": "text/x-python",
   "name": "python",
   "nbconvert_exporter": "python",
   "pygments_lexer": "ipython3",
   "version": "3.8.3"
  }
 },
 "nbformat": 4,
 "nbformat_minor": 4
}
