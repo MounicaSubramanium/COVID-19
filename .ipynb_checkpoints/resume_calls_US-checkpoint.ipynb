{
 "cells": [
  {
   "cell_type": "code",
   "execution_count": null,
   "metadata": {},
   "outputs": [],
   "source": [
    "# Whereas the other notebook is to create a template from the JHU data and start making\n",
    "# API calls from scratch, if that notebook is interrupted, this one will pick up where\n",
    "# that one left off."
   ]
  },
  {
   "cell_type": "code",
   "execution_count": null,
   "metadata": {},
   "outputs": [],
   "source": [
    "import pandas as pd\n",
    "import numpy as np\n",
    "import requests\n",
    "import json\n",
    "from datetime import datetime as dt\n",
    "\n",
    "# reading CSV files to create dataframes\n",
    "df_confirmed = pd.read_csv('./csse_covid_19_data/csse_covid_19_time_series/time_series_covid19_confirmed_US.csv')\n",
    "\n",
    "df_tMax = pd.read_csv('./csv/tMax_US.csv')\n",
    "df_tMin = pd.read_csv('./csv/tMin_US.csv')\n",
    "df_humidity = pd.read_csv('./csv/humidity_US.csv')\n",
    "df_uvIndex = pd.read_csv('./csv/uv_US.csv')\n",
    "df_cloud = pd.read_csv('./csv/cloud_US.csv')\n",
    "df_precipprob = pd.read_csv('./csv/precip_US.csv')\n",
    "df_dewpoint = pd.read_csv('./csv/dew_US.csv')\n",
    "df_pressure = pd.read_csv('./csv/pressure_US.csv')\n",
    "df_windspeed = pd.read_csv('./csv/wind_US.csv')\n",
    "df_ozone = pd.read_csv('./csv/ozone_US.csv')\n",
    "df_sunrise = pd.read_csv('./csv/sunrise_US.csv')\n",
    "df_sunset = pd.read_csv('./csv/sunset_US.csv')\n"
   ]
  }
 ],
 "metadata": {
  "kernelspec": {
   "display_name": "Python 3",
   "language": "python",
   "name": "python3"
  },
  "language_info": {
   "codemirror_mode": {
    "name": "ipython",
    "version": 3
   },
   "file_extension": ".py",
   "mimetype": "text/x-python",
   "name": "python",
   "nbconvert_exporter": "python",
   "pygments_lexer": "ipython3",
   "version": "3.8.3"
  }
 },
 "nbformat": 4,
 "nbformat_minor": 4
}
