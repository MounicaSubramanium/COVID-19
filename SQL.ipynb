{
 "cells": [
  {
   "cell_type": "markdown",
   "metadata": {},
   "source": [
    "Using SQL to update weather data"
   ]
  },
  {
   "cell_type": "code",
   "execution_count": 8,
   "metadata": {},
   "outputs": [],
   "source": [
    "# sqlite3 library to run operations on the database\n",
    "import sqlite3\n",
    "\n",
    "# connecting to the weather database\n",
    "con = sqlite3.connect('./sql/weather.db')\n",
    "\n",
    "# establishing database cursor\n",
    "cursorObj = con.cursor()\n"
   ]
  },
  {
   "cell_type": "code",
   "execution_count": 32,
   "metadata": {},
   "outputs": [
    {
     "data": {
      "text/plain": [
       "['cloud_Global',\n",
       " 'cloud_US',\n",
       " 'dew_Global',\n",
       " 'dew_US',\n",
       " 'humidity_Global',\n",
       " 'humidity_US',\n",
       " 'ozone_Global',\n",
       " 'ozone_US',\n",
       " 'precip_Global',\n",
       " 'precip_US',\n",
       " 'pressure_Global',\n",
       " 'pressure_US',\n",
       " 'sunrise_Global',\n",
       " 'sunrise_US',\n",
       " 'sunset_Global',\n",
       " 'sunset_US',\n",
       " 'tMax_Global',\n",
       " 'tMax_US',\n",
       " 'tMin_Global',\n",
       " 'tMin_US',\n",
       " 'uv_Global',\n",
       " 'uv_US',\n",
       " 'wind_Global',\n",
       " 'wind_US']"
      ]
     },
     "execution_count": 32,
     "metadata": {},
     "output_type": "execute_result"
    }
   ],
   "source": [
    "# Getting table names\n",
    "\n",
    "import pandas as pd\n",
    "import numpy as np\n",
    "\n",
    "table_names = cursorObj.execute(\"SELECT name FROM sqlite_master WHERE type='table';\")\n",
    "\n",
    "table_names = table_names.fetchall()\n",
    "\n",
    "# Taking the table names that were fetched, and making a usable list out of the values.\n",
    "\n",
    "t_names = []\n",
    "\n",
    "for x in range(len(table_names)):\n",
    "    # print(x)\n",
    "    # print(table_names[x][0])\n",
    "    t_names.append(table_names[x][0])\n",
    "\n",
    "t_names\n",
    "    \n"
   ]
  }
 ],
 "metadata": {
  "kernelspec": {
   "display_name": "Python 3",
   "language": "python",
   "name": "python3"
  },
  "language_info": {
   "codemirror_mode": {
    "name": "ipython",
    "version": 3
   },
   "file_extension": ".py",
   "mimetype": "text/x-python",
   "name": "python",
   "nbconvert_exporter": "python",
   "pygments_lexer": "ipython3",
   "version": "3.8.3"
  }
 },
 "nbformat": 4,
 "nbformat_minor": 4
}
