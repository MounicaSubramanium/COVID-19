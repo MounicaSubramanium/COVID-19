{
 "cells": [
  {
   "cell_type": "markdown",
   "metadata": {},
   "source": [
    "Using SQL to update weather data"
   ]
  },
  {
   "cell_type": "code",
   "execution_count": 1,
   "metadata": {},
   "outputs": [],
   "source": [
    "# sqlite3 library to run operations on the database\n",
    "import sqlite3\n",
    "\n",
    "# connecting to the weather database\n",
    "con = sqlite3.connect('./sql/weather.db')\n",
    "\n",
    "# establishing database cursor\n",
    "cursorObj = con.cursor()\n"
   ]
  },
  {
   "cell_type": "code",
   "execution_count": 9,
   "metadata": {},
   "outputs": [
    {
     "name": "stdout",
     "output_type": "stream",
     "text": [
      "US names ['cloud_US', 'dew_US', 'humidity_US', 'ozone_US', 'precip_US', 'pressure_US', 'sunrise_US', 'sunset_US', 'tMax_US', 'tMin_US', 'uv_US', 'wind_US']\n",
      "Global names ['cloud_Global', 'dew_Global', 'humidity_Global', 'ozone_Global', 'precip_Global', 'pressure_Global', 'sunrise_Global', 'sunset_Global', 'tMax_Global', 'tMin_Global', 'uv_Global', 'wind_Global']\n"
     ]
    }
   ],
   "source": [
    "# Getting table names\n",
    "\n",
    "import pandas as pd\n",
    "\n",
    "table_names = cursorObj.execute(\"SELECT name FROM sqlite_master WHERE type='table';\")\n",
    "\n",
    "table_names = table_names.fetchall()\n",
    "\n",
    "# Taking the table names that were fetched, and making a usable lists out of the values.\n",
    "\n",
    "US_names = []\n",
    "global_names = []\n",
    "\n",
    "for x in range(len(table_names)):\n",
    "    if (table_names[x][0][-2:] == 'US'):\n",
    "        US_names.append(table_names[x][0])\n",
    "        \n",
    "    else:\n",
    "        global_names.append(table_names[x][0])\n",
    "        \n",
    " \n",
    "print('US names', US_names)\n",
    "\n",
    "print('Global names', global_names)\n",
    "    \n"
   ]
  },
  {
   "cell_type": "code",
   "execution_count": null,
   "metadata": {},
   "outputs": [],
   "source": [
    "# getting table info\n",
    "\n",
    "# query = 'SELECT * FROM {}'.format(US_names[0])\n",
    "# cursorObj.execute(query)\n",
    "\n",
    "# the_table = cursorObj.fetchall()\n",
    "\n",
    "# the_table"
   ]
  },
  {
   "cell_type": "code",
   "execution_count": 15,
   "metadata": {},
   "outputs": [
    {
     "ename": "OperationalError",
     "evalue": "near \"\"ALTER TABLE cloud_US ADD COLUMN 8\"\": syntax error",
     "output_type": "error",
     "traceback": [
      "\u001b[0;31m---------------------------------------------------------------------------\u001b[0m",
      "\u001b[0;31mOperationalError\u001b[0m                          Traceback (most recent call last)",
      "\u001b[0;32m<ipython-input-15-f249b900878d>\u001b[0m in \u001b[0;36m<module>\u001b[0;34m\u001b[0m\n\u001b[1;32m     10\u001b[0m \u001b[0;34m\u001b[0m\u001b[0m\n\u001b[1;32m     11\u001b[0m         \u001b[0madd_str\u001b[0m \u001b[0;34m=\u001b[0m \u001b[0;34m'\"ALTER TABLE {} ADD COLUMN {} text\"'\u001b[0m\u001b[0;34m.\u001b[0m\u001b[0mformat\u001b[0m\u001b[0;34m(\u001b[0m\u001b[0my\u001b[0m\u001b[0;34m,\u001b[0m \u001b[0mdate_str\u001b[0m\u001b[0;34m)\u001b[0m\u001b[0;34m\u001b[0m\u001b[0;34m\u001b[0m\u001b[0m\n\u001b[0;32m---> 12\u001b[0;31m         \u001b[0mcursorObj\u001b[0m\u001b[0;34m.\u001b[0m\u001b[0mexecute\u001b[0m\u001b[0;34m(\u001b[0m\u001b[0madd_str\u001b[0m\u001b[0;34m)\u001b[0m\u001b[0;34m\u001b[0m\u001b[0;34m\u001b[0m\u001b[0m\n\u001b[0m\u001b[1;32m     13\u001b[0m         \u001b[0mprint\u001b[0m\u001b[0;34m(\u001b[0m\u001b[0madd_str\u001b[0m\u001b[0;34m)\u001b[0m\u001b[0;34m\u001b[0m\u001b[0;34m\u001b[0m\u001b[0m\n\u001b[1;32m     14\u001b[0m \u001b[0;34m\u001b[0m\u001b[0m\n",
      "\u001b[0;31mOperationalError\u001b[0m: near \"\"ALTER TABLE cloud_US ADD COLUMN 8\"\": syntax error"
     ]
    }
   ],
   "source": [
    "# adding dates to tables\n",
    "# current last date is 8/12/20\n",
    "\n",
    "for x in range(12, 32):\n",
    "    \n",
    "    day_str = str(x)\n",
    "    date_str = '\"8/' + day_str + '/20\"'\n",
    "    \n",
    "    for y in US_names:\n",
    "        \n",
    "        add_str = 'ALTER TABLE {} ADD COLUMN {} text'.format(y, date_str)\n",
    "        # cursorObj.execute(add_str)\n",
    "        print(add_str)\n",
    "    \n",
    "    for y in global_names:\n",
    "        \n",
    "        add_str = '\"ALTER TABLE {} ADD COLUMN {} text\"'.format(y, date_str)\n",
    "        # cursorObj.execute(add_str)\n",
    "        print(add_str)"
   ]
  }
 ],
 "metadata": {
  "kernelspec": {
   "display_name": "Python 3",
   "language": "python",
   "name": "python3"
  },
  "language_info": {
   "codemirror_mode": {
    "name": "ipython",
    "version": 3
   },
   "file_extension": ".py",
   "mimetype": "text/x-python",
   "name": "python",
   "nbconvert_exporter": "python",
   "pygments_lexer": "ipython3",
   "version": "3.8.3"
  }
 },
 "nbformat": 4,
 "nbformat_minor": 4
}
