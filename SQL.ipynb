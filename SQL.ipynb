{
 "cells": [
  {
   "cell_type": "markdown",
   "metadata": {},
   "source": [
    "Using SQL to update weather data"
   ]
  },
  {
   "cell_type": "code",
   "execution_count": null,
   "metadata": {},
   "outputs": [],
   "source": [
    "# sqlite3 library to run operations on the database\n",
    "import sqlite3\n",
    "\n",
    "# connecting to the weather database\n",
    "con = sqlite3.connect('./sql/weather.db')\n",
    "\n",
    "# establishing database cursor\n",
    "cursorObj = con.cursor()\n"
   ]
  },
  {
   "cell_type": "code",
   "execution_count": null,
   "metadata": {},
   "outputs": [],
   "source": [
    "# Getting table names\n",
    "\n",
    "import pandas as pd\n",
    "\n",
    "table_names = cursorObj.execute(\"SELECT name FROM sqlite_master WHERE type='table';\")\n",
    "\n",
    "table_names = table_names.fetchall()\n",
    "\n",
    "# Taking the table names that were fetched, and making a usable lists out of the values.\n",
    "\n",
    "US_names = []\n",
    "global_names = []\n",
    "\n",
    "for x in range(len(table_names)):\n",
    "    if (table_names[x][0][-2:] == 'US'):\n",
    "        US_names.append(table_names[x][0])\n",
    "        \n",
    "    else:\n",
    "        global_names.append(table_names[x][0])\n",
    "        \n",
    " \n",
    "print('US names', US_names)\n",
    "\n",
    "print('Global names', global_names)\n",
    "    \n"
   ]
  },
  {
   "cell_type": "code",
   "execution_count": null,
   "metadata": {},
   "outputs": [],
   "source": [
    "# getting table info\n",
    "\n",
    "query = 'SELECT * FROM {}'.format(US_names[0])\n",
    "cursorObj.execute(query)\n",
    "\n",
    "the_table = cursorObj.fetchall()\n",
    "\n",
    "# the_table"
   ]
  },
  {
   "cell_type": "code",
   "execution_count": null,
   "metadata": {},
   "outputs": [],
   "source": []
  }
 ],
 "metadata": {
  "kernelspec": {
   "display_name": "Python 3",
   "language": "python",
   "name": "python3"
  },
  "language_info": {
   "codemirror_mode": {
    "name": "ipython",
    "version": 3
   },
   "file_extension": ".py",
   "mimetype": "text/x-python",
   "name": "python",
   "nbconvert_exporter": "python",
   "pygments_lexer": "ipython3",
   "version": "3.8.3"
  }
 },
 "nbformat": 4,
 "nbformat_minor": 4
}
