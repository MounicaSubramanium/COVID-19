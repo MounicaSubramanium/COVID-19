{
 "cells": [
  {
   "cell_type": "code",
   "execution_count": null,
   "metadata": {},
   "outputs": [],
   "source": [
    "# for adding date columns to the US data"
   ]
  },
  {
   "cell_type": "code",
   "execution_count": null,
   "metadata": {},
   "outputs": [],
   "source": [
    "import pandas as pd\n",
    "import numpy as np\n",
    "import requests\n",
    "import json\n",
    "from datetime import datetime as dt\n",
    "\n",
    "# reading CSV files to create dataframes\n",
    "# df_confirmed = pd.read_csv('./csse_covid_19_data/csse_covid_19_time_series/time_series_covid19_confirmed_US.csv')\n",
    "\n",
    "df_tMax = pd.read_csv('./csv/tMax_US.csv')\n",
    "df_tMin = pd.read_csv('./csv/tMin_US.csv')\n",
    "df_humidity = pd.read_csv('./csv/humidity_US.csv')\n",
    "df_uvIndex = pd.read_csv('./csv/uv_US.csv')\n",
    "df_cloud = pd.read_csv('./csv/cloud_US.csv')\n",
    "df_precipprob = pd.read_csv('./csv/precip_US.csv')\n",
    "df_dewpoint = pd.read_csv('./csv/dew_US.csv')\n",
    "df_pressure = pd.read_csv('./csv/pressure_US.csv')\n",
    "df_windspeed = pd.read_csv('./csv/wind_US.csv')\n",
    "df_ozone = pd.read_csv('./csv/ozone_US.csv')\n",
    "df_sunrise = pd.read_csv('./csv/sunrise_US.csv')\n",
    "df_sunset = pd.read_csv('./csv/sunset_US.csv')\n"
   ]
  },
  {
   "cell_type": "code",
   "execution_count": null,
   "metadata": {},
   "outputs": [],
   "source": [
    "df_tMax.head()"
   ]
  },
  {
   "cell_type": "code",
   "execution_count": null,
   "metadata": {},
   "outputs": [],
   "source": [
    "# Adding date columns\n",
    "\n",
    "for q in range(13, 29):\n",
    "    day_str = str(q)\n",
    "    date_str = '8/' + day_str + '/20'\n",
    "    # df_template[date_str] = -10000    \n",
    "    # print(date_str)\n",
    "    df_tMax[date_str] = -10000\n",
    "    df_tMin[date_str] = -10000\n",
    "    df_humidity[date_str] = -10000\n",
    "    df_uvIndex[date_str] = -10000\n",
    "    df_cloud[date_str] = -10000\n",
    "    df_precipprob[date_str] = -10000\n",
    "    df_dewpoint[date_str] = -10000\n",
    "    df_pressure[date_str] = -10000\n",
    "    df_windspeed[date_str] = -10000\n",
    "    df_ozone[date_str] = -10000\n",
    "    df_sunrise[date_str] = -10000\n",
    "    df_sunset[date_str] = -10000\n",
    "\n",
    "df_tMax.head()"
   ]
  },
  {
   "cell_type": "markdown",
   "metadata": {},
   "source": [
    "I think I just need to work with the confirmed DataFrame. It's set up such that each row is a specific location, and the columns are different dates.\n",
    "\n"
   ]
  },
  {
   "cell_type": "code",
   "execution_count": null,
   "metadata": {},
   "outputs": [],
   "source": [
    "# Writing CSV files with added date columns\n",
    "\n",
    "df_tMax.to_csv('./csv/tMax_US.csv', index=False)\n",
    "df_tMin.to_csv('./csv/tMin_US.csv', index=False)\n",
    "df_humidity.to_csv('./csv/humidity_US.csv', index=False)\n",
    "df_uvIndex.to_csv('./csv/uv_US.csv', index=False)\n",
    "df_cloud.to_csv('./csv/cloud_US.csv', index=False)\n",
    "df_precipprob.to_csv('./csv/precip_US.csv', index=False)\n",
    "df_dewpoint.to_csv('./csv/dew_US.csv', index=False)\n",
    "df_pressure.to_csv('./csv/pressure_US.csv', index=False)\n",
    "df_windspeed.to_csv('./csv/wind_US.csv', index=False)\n",
    "df_ozone.to_csv('./csv/ozone_US.csv', index=False)\n",
    "df_sunrise.to_csv('./csv/sunrise_US.csv', index=False)\n",
    "df_sunset.to_csv('./csv/sunset_US.csv', index=False)"
   ]
  },
  {
   "cell_type": "code",
   "execution_count": null,
   "metadata": {},
   "outputs": [],
   "source": []
  },
  {
   "cell_type": "code",
   "execution_count": null,
   "metadata": {},
   "outputs": [],
   "source": []
  },
  {
   "cell_type": "code",
   "execution_count": null,
   "metadata": {},
   "outputs": [],
   "source": []
  },
  {
   "cell_type": "code",
   "execution_count": null,
   "metadata": {},
   "outputs": [],
   "source": []
  },
  {
   "cell_type": "code",
   "execution_count": null,
   "metadata": {},
   "outputs": [],
   "source": []
  },
  {
   "cell_type": "code",
   "execution_count": null,
   "metadata": {
    "scrolled": true
   },
   "outputs": [],
   "source": []
  },
  {
   "cell_type": "code",
   "execution_count": null,
   "metadata": {},
   "outputs": [],
   "source": []
  },
  {
   "cell_type": "code",
   "execution_count": null,
   "metadata": {
    "scrolled": true
   },
   "outputs": [],
   "source": []
  },
  {
   "cell_type": "code",
   "execution_count": null,
   "metadata": {},
   "outputs": [],
   "source": []
  },
  {
   "cell_type": "code",
   "execution_count": null,
   "metadata": {},
   "outputs": [],
   "source": []
  },
  {
   "cell_type": "code",
   "execution_count": null,
   "metadata": {},
   "outputs": [],
   "source": []
  },
  {
   "cell_type": "code",
   "execution_count": null,
   "metadata": {},
   "outputs": [],
   "source": []
  },
  {
   "cell_type": "code",
   "execution_count": null,
   "metadata": {},
   "outputs": [],
   "source": []
  },
  {
   "cell_type": "code",
   "execution_count": null,
   "metadata": {},
   "outputs": [],
   "source": []
  },
  {
   "cell_type": "code",
   "execution_count": null,
   "metadata": {},
   "outputs": [],
   "source": []
  },
  {
   "cell_type": "code",
   "execution_count": null,
   "metadata": {},
   "outputs": [],
   "source": []
  },
  {
   "cell_type": "code",
   "execution_count": null,
   "metadata": {},
   "outputs": [],
   "source": []
  },
  {
   "cell_type": "code",
   "execution_count": null,
   "metadata": {},
   "outputs": [],
   "source": []
  },
  {
   "cell_type": "code",
   "execution_count": null,
   "metadata": {},
   "outputs": [],
   "source": []
  },
  {
   "cell_type": "code",
   "execution_count": null,
   "metadata": {},
   "outputs": [],
   "source": []
  },
  {
   "cell_type": "code",
   "execution_count": null,
   "metadata": {},
   "outputs": [],
   "source": []
  },
  {
   "cell_type": "code",
   "execution_count": null,
   "metadata": {},
   "outputs": [],
   "source": []
  },
  {
   "cell_type": "code",
   "execution_count": null,
   "metadata": {},
   "outputs": [],
   "source": []
  },
  {
   "cell_type": "code",
   "execution_count": null,
   "metadata": {},
   "outputs": [],
   "source": []
  },
  {
   "cell_type": "code",
   "execution_count": null,
   "metadata": {},
   "outputs": [],
   "source": []
  },
  {
   "cell_type": "code",
   "execution_count": null,
   "metadata": {},
   "outputs": [],
   "source": []
  },
  {
   "cell_type": "code",
   "execution_count": null,
   "metadata": {},
   "outputs": [],
   "source": []
  },
  {
   "cell_type": "code",
   "execution_count": null,
   "metadata": {},
   "outputs": [],
   "source": []
  },
  {
   "cell_type": "code",
   "execution_count": null,
   "metadata": {},
   "outputs": [],
   "source": []
  }
 ],
 "metadata": {
  "kernelspec": {
   "display_name": "Python 3",
   "language": "python",
   "name": "python3"
  },
  "language_info": {
   "codemirror_mode": {
    "name": "ipython",
    "version": 3
   },
   "file_extension": ".py",
   "mimetype": "text/x-python",
   "name": "python",
   "nbconvert_exporter": "python",
   "pygments_lexer": "ipython3",
   "version": "3.8.3"
  }
 },
 "nbformat": 4,
 "nbformat_minor": 2
}
